{
 "cells": [
  {
   "cell_type": "code",
   "execution_count": 5,
   "id": "0e54a6af",
   "metadata": {},
   "outputs": [],
   "source": [
    "from termcolor import colored\n",
    "\n",
    "def print_success(text, end='\\n'):\n",
    "    print(colored(text, 'green', attrs=['reverse']), end=end)\n",
    "\n",
    "def print_warning(text, end='\\n'):\n",
    "    print(colored(text, 'yellow', attrs=['reverse']), end=end)\n",
    "\n",
    "def print_error(text, end='\\n'):\n",
    "    print(colored(text, 'red', attrs=['reverse']), end=end)\n",
    "\n",
    "def print_grey(text, end='\\n'):\n",
    "    print(colored(text, 'grey', attrs=['reverse']), end=end)\n"
   ]
  },
  {
   "cell_type": "code",
   "execution_count": 24,
   "id": "31cfd4a8",
   "metadata": {},
   "outputs": [],
   "source": [
    "import random\n",
    "\n",
    "\n",
    "class Wordle:\n",
    "    def __init__(self,file_path,word_len = 5,limit = 10000):\n",
    "        self.word_len=word_len\n",
    "        self.word=self.generate_word_frequency(file_path, word_len, limit)\n",
    "    \n",
    "    def generate_word_frequency(self,file_path, word_len, limit):\n",
    "        words_freq=[]\n",
    "        with open(file_path) as f:\n",
    "            for line in f:\n",
    "                word,frequency=line.split(\", \")\n",
    "                frequency=int(frequency)\n",
    "                word=word.strip().upper()\n",
    "                words_freq.append((word,frequency))\n",
    "        return words_freq\n",
    "\n",
    "        \n"
   ]
  },
  {
   "cell_type": "code",
   "execution_count": 25,
   "id": "123aed00",
   "metadata": {},
   "outputs": [],
   "source": [
    "a=Wordle(\"data/words_frequency.txt\")"
   ]
  },
  {
   "cell_type": "code",
   "execution_count": 26,
   "id": "34a08519",
   "metadata": {},
   "outputs": [
    {
     "data": {
      "text/plain": [
       "[('THE', 23135851162),\n",
       " ('OF', 13151942776),\n",
       " ('AND', 12997637966),\n",
       " ('TO', 12136980858)]"
      ]
     },
     "execution_count": 26,
     "metadata": {},
     "output_type": "execute_result"
    }
   ],
   "source": [
    "a.generate_word_frequency(\"data/words_frequency.txt\",5,10)[0:4]"
   ]
  }
 ],
 "metadata": {
  "kernelspec": {
   "display_name": "base",
   "language": "python",
   "name": "python3"
  },
  "language_info": {
   "codemirror_mode": {
    "name": "ipython",
    "version": 3
   },
   "file_extension": ".py",
   "mimetype": "text/x-python",
   "name": "python",
   "nbconvert_exporter": "python",
   "pygments_lexer": "ipython3",
   "version": "3.13.5"
  }
 },
 "nbformat": 4,
 "nbformat_minor": 5
}
