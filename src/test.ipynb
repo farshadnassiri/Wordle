{
 "cells": [
  {
   "cell_type": "code",
   "execution_count": 74,
   "id": "0e54a6af",
   "metadata": {},
   "outputs": [],
   "source": [
    "from termcolor import colored\n",
    "import random\n",
    "\n",
    "\n",
    "random.seed(42)\n",
    "\n",
    "def print_success(text, end='\\n'):\n",
    "    print(colored(text, 'green', attrs=['reverse']), end=end)\n",
    "\n",
    "def print_warning(text, end='\\n'):\n",
    "    print(colored(text, 'yellow', attrs=['reverse']), end=end)\n",
    "\n",
    "def print_error(text, end='\\n'):\n",
    "    print(colored(text, 'red', attrs=['reverse']), end=end)\n",
    "\n",
    "def print_grey(text, end='\\n'):\n",
    "    print(colored(text, 'grey', attrs=['reverse']), end=end)\n"
   ]
  },
  {
   "cell_type": "code",
   "execution_count": 79,
   "id": "31cfd4a8",
   "metadata": {},
   "outputs": [],
   "source": [
    "import random\n",
    "\n",
    "\n",
    "class Wordle:\n",
    "    def __init__(self,file_path,word_len = 5 ,limit = 1000):\n",
    "        self.word_len=word_len\n",
    "        self.file_path=file_path\n",
    "        self.limit=limit\n",
    "        self.words=self.generate_word_frequency()\n",
    "\n",
    "    def generate_word_frequency(self):\n",
    "        words_freq=[]\n",
    "        with open(self.file_path) as f:\n",
    "            for line in f:\n",
    "                word,frequency=line.split(\", \")\n",
    "                frequency=int(frequency)\n",
    "                word=word.strip().upper()\n",
    "                words_freq.append((word,frequency))\n",
    "        words_freq = list(filter(lambda w_freq :len(w_freq[0]) == self.word_len ,words_freq))\n",
    "        words_freq = sorted(words_freq,key=lambda w_freq: w_freq[1],reverse=True)\n",
    "        words_freq = words_freq[:self.limit]\n",
    "        words=[word_freq[0] for word_freq in words_freq]\n",
    "        return words\n",
    "\n",
    "    def check_word(self, word, guess_word):\n",
    "        for w_letter, g_letter in zip(word, guess_word):\n",
    "            if w_letter == g_letter:\n",
    "                print_success(f' {g_letter} ', end='')\n",
    "                print(' ', end='')\n",
    "            elif g_letter in word:\n",
    "                print_warning(f' {g_letter} ', end='')\n",
    "                print(' ', end='')\n",
    "            else:\n",
    "                print_error(f' {g_letter} ', end='')\n",
    "                print(' ', end='')\n",
    "        print()\n",
    "\n",
    "    def run(self):\n",
    "        word = random.choice(self.words)\n",
    "        word=word.upper()\n",
    "\n",
    "        num_try = 6\n",
    "        success = False\n",
    "\n",
    "        while num_try:\n",
    "            guess_word = input(f'Enter a {self.word_len} letter word (or q to exit): ')\n",
    "            if guess_word.lower() == \"q\":\n",
    "                break\n",
    "            guess_word=guess_word.upper()\n",
    "            if len(guess_word) != self.word_len :\n",
    "                print(f'Word must have {self.word_len} letters. You entered {len(guess_word)}!')\n",
    "                continue\n",
    "            self.check_word(word,guess_word)\n",
    "            num_try -= 1\n",
    "            if word == guess_word:\n",
    "                print()\n",
    "                print_success(' Congratulations! ')\n",
    "                success = True\n",
    "                break\n",
    "        if not success:\n",
    "            print_warning(f'Game over: The word was \"{word}\".')\n",
    "\n",
    "        \n"
   ]
  },
  {
   "cell_type": "code",
   "execution_count": 80,
   "id": "486aab89",
   "metadata": {},
   "outputs": [
    {
     "name": "stdout",
     "output_type": "stream",
     "text": [
      "\u001b[7m\u001b[31m A \u001b[0m \u001b[7m\u001b[31m B \u001b[0m \u001b[7m\u001b[31m C \u001b[0m \u001b[7m\u001b[31m D \u001b[0m \u001b[7m\u001b[33m E \u001b[0m \n",
      "\u001b[7m\u001b[33m E \u001b[0m \u001b[7m\u001b[31m N \u001b[0m \u001b[7m\u001b[31m M \u001b[0m \u001b[7m\u001b[31m L \u001b[0m \u001b[7m\u001b[31m K \u001b[0m \n",
      "\u001b[7m\u001b[31m O \u001b[0m \u001b[7m\u001b[31m P \u001b[0m \u001b[7m\u001b[32m E \u001b[0m \u001b[7m\u001b[33m R \u001b[0m \u001b[7m\u001b[33m T \u001b[0m \n",
      "\u001b[7m\u001b[32m T \u001b[0m \u001b[7m\u001b[33m R \u001b[0m \u001b[7m\u001b[32m E \u001b[0m \u001b[7m\u001b[31m G \u001b[0m \u001b[7m\u001b[31m O \u001b[0m \n",
      "\u001b[7m\u001b[32m T \u001b[0m \u001b[7m\u001b[32m H \u001b[0m \u001b[7m\u001b[32m E \u001b[0m \u001b[7m\u001b[33m R \u001b[0m \u001b[7m\u001b[33m E \u001b[0m \n",
      "\u001b[7m\u001b[32m T \u001b[0m \u001b[7m\u001b[32m H \u001b[0m \u001b[7m\u001b[32m E \u001b[0m \u001b[7m\u001b[33m E \u001b[0m \u001b[7m\u001b[32m R \u001b[0m \n",
      "\u001b[7m\u001b[33mGame over: The word was \"THEIR\".\u001b[0m\n"
     ]
    }
   ],
   "source": [
    "game=Wordle(\"data/words_frequency.txt\",5,100)\n",
    "game.generate_word_frequency()\n",
    "game.run()\n"
   ]
  }
 ],
 "metadata": {
  "kernelspec": {
   "display_name": "base",
   "language": "python",
   "name": "python3"
  },
  "language_info": {
   "codemirror_mode": {
    "name": "ipython",
    "version": 3
   },
   "file_extension": ".py",
   "mimetype": "text/x-python",
   "name": "python",
   "nbconvert_exporter": "python",
   "pygments_lexer": "ipython3",
   "version": "3.13.5"
  }
 },
 "nbformat": 4,
 "nbformat_minor": 5
}
